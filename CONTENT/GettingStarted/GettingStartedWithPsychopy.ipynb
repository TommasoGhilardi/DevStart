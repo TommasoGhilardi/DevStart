{
  "cells": [
    {
      "cell_type": "raw",
      "metadata": {},
      "source": [
        "---\n",
        "title: Starting with PsychoPy\n",
        "execute:\n",
        "  eval: false\n",
        "\n",
        "pagetitle: Starting with PsychoPy\n",
        "author-meta: Tommaso Ghilardi\n",
        "description-meta: Learn how to get started with PsychoPy, an open-source software package for neuroscience and experimental psychology research. Follow our step-by-step guide to install PsychoPy, create experiments, and more.\n",
        "keywords: PsychoPy, Python, experimental psychology, neuroscience, tutorial, installation, experiment, DevStart, developmental science\n",
        "---"
      ],
      "id": "5d31c822"
    },
    {
      "cell_type": "markdown",
      "metadata": {},
      "source": [
        "PsychoPy is an open source software package written in the Python programming language primarily for use in neuroscience and experimental psychology research. It's one of our favorite ways to create experiments and we will use it through our tutorials.\n",
        "\n",
        "So, let's start and install PsychoPy!!!\n",
        "\n",
        "## Install PsychoPy\n",
        "\n",
        "As reported on the PsychoPy [website](https://www.psychopy.org/download.html), there are multiple ways to install PsychoPy. Our favorite way to install it is using conda (refer to the [Getting started with python](GettingStartedWithPython.qmd)).\n",
        "\n",
        "PsychoPy offers a nice .yml file that will install everything that we need. Download the [file](https://raw.githubusercontent.com/psychopy/psychopy/master/conda/psychopy-env.yml) from their website and store it somewhere.\n",
        "\n",
        "Now open the Anaconda prompt and type:\n",
        "\n",
        "``` bash\n",
        "conda env create -f  your_dowloaded_file.yml\n",
        "```\n",
        "\n",
        "This will take some time and will ask for confirmation but in the end you will have a nice virtual environment containing everything you need to run your experiment on PsychoPy.\n",
        "\n",
        "The virtual environment will be called \"psychopy\" and you can activate it just by typing:\n",
        "\n",
        "``` bash\n",
        "conda activate psychopy\n",
        "```\n",
        "\n",
        "We are done!! You now should have a nice conda environment called \"psychoPy\" with PsychoPy in it. To launch the PsychoPy Gui (also referred to as Builder) you can just type `psychopy` in your Anaconda prompt and PsychoPy will launch. You are definitely free to try the Builder or the Coder that PsychoPy offers, however we usually prefer to write and launch our scripts from Spyder, let's be honest, if you want to code your experiment the Gui of Spyder is way better!!\n",
        "\n",
        "Thus we suggest to install Spyder in your newly created \"psychopy\" environment. You can do that just by simply typing in:\n",
        "\n",
        "``` bash\n",
        "conda install –c anaconda spyder\n",
        "```\n",
        "\n",
        "You can also refer to our guide [InstallingSpyderide](GettingStartedWithPython.qmd#sec-installspyder).\n",
        "\n",
        "Now that you should have both PsychoPy and Spyder installed let's see how to create a simple experiment with them.\n",
        "\n",
        "## Let's create our first experiment using PsychoPy.\n",
        "\n",
        "We will create a very simple and basic experiment that will be the stepping stone for some of the future tutorials. In the future tutorials we will show you how to extend and make this tutorial in a real experiment.\n",
        "\n",
        "::: callout-important\n",
        "## Stimuli!\n",
        "\n",
        "You can download from [here](/resources/getting_started_psychopy/getting_started_psychopy.zip) the stimuli that we will use in this example. They are very simple and basic stimuli:\n",
        "\n",
        "-   a fixation cross\n",
        "-   two cues (a circle and a square)\n",
        "-   a reward (a cute medal)\n",
        "-   a non-reward (a cartoon of an exploding empty cloud)\n",
        "-   a sound of winning at an arcade game\n",
        "-   a sound of losing at an arcade game\n",
        ":::\n",
        "\n",
        "In this tutorial we will create an experiment in which, after the fixation cross, one of the two cues is presented. The cues will indicate whether we will receive a reward or not and where this will appear. After the circle is presented as cue the medal will be presented on the right. After the circle the empty cloud will be presented on the left. Thus, if you follow the cued indication you will be able to predict the location of the next stimuli and whether or not it will be rewarding. Here below you can find a graphic representation of the design:\\\n",
        "![](/images/GettingStartedWithPsychopy/Design.jpg)\n",
        "\n",
        "### Preparation:\n",
        "\n",
        "First thing first let's import the relevant libraries and define the path where our stimuli are in. PsychoPy has a lot of different modules that allow us to interface with different type of stimuli and systems. For this tutorial"
      ],
      "id": "277cabf3"
    },
    {
      "cell_type": "code",
      "metadata": {},
      "source": [
        "# Import some libraries from PsychoPy\n",
        "from psychopy import core\n",
        "from psychopy import visual  \n",
        "from psychopy import sound\n",
        "\n",
        "# Let's define the path we will work with.\n",
        "# in my case the stimuli that we will use are in here but you will have to adapt\n",
        "# this variable to where you have downloaded the stimuli.\n",
        "Path = 'C:\\\\Users\\\\tomma\\\\surfdrive\\\\Documentation\\\\psychopy\\\\'"
      ],
      "id": "3347f197",
      "execution_count": null,
      "outputs": []
    },
    {
      "cell_type": "markdown",
      "metadata": {},
      "source": [
        "### Stimuli:\n",
        "\n",
        "The next step is to create the window The window is what we will show the stimuli in; it is the canvas in which to draw objects. For now we will create a small window of 800\\*600 pixels. In this way we will able to see the stimuli and still interact with the rest of our pc interface. In a real experiment we would probably set the window dimension to the entirety of the the display (Fullscreen)."
      ],
      "id": "aa26b7dd"
    },
    {
      "cell_type": "code",
      "metadata": {},
      "source": [
        "#create a window\n",
        "win = visual.Window([800,600], units=\"pix\")"
      ],
      "id": "cd581b0c",
      "execution_count": null,
      "outputs": []
    },
    {
      "cell_type": "markdown",
      "metadata": {},
      "source": [
        "Now let's import the stimuli that we will present in this tutorial. We have 5 stimuli:\n",
        "\n",
        "-   a fixation cross that we will use to catch the attention of our participants\n",
        "-   a circle that will be our cue that signal a rewarding trial\n",
        "-   a square that will be our cue that signal a non-rewarding trial\n",
        "-   a cartoon of a medal that will be our reward\n",
        "-   a cartoon of an empty cloud that will be our non-reward\n",
        "\n",
        "On top of these visual stimuli we will also import two sounds that will help us signal the type of trials. So:\n",
        "\n",
        "-   a *tada!* winning sound\n",
        "-   a *papapaaa!* losing sound\n",
        "\n",
        "::: callout-tip\n",
        "When importing a visual stimulus we need to pass to the importing function in which window it will be displayed. In our case we will pass all of them the \"win\" window that we just created.\n",
        ":::"
      ],
      "id": "9299f231"
    },
    {
      "cell_type": "code",
      "metadata": {},
      "source": [
        "# Load images\n",
        "fixation = visual.ImageStim(win, image=Path + 'fixation.png', size = (100, 100))\n",
        "circle   = visual.ImageStim(win, image=Path + 'circle.png', size = (100, 100))\n",
        "square   = visual.ImageStim(win, image=Path + 'square.png', size = (100, 100))\n",
        "winning   = visual.ImageStim(win, image=Path + 'winning.png', size = (100, 100), pos=(250,0))\n",
        "loosing  = visual.ImageStim(win, image=Path + 'loosing.png', size = (100, 100), pos=(-250,0))\n",
        "\n",
        "# Load sound\n",
        "winning_sound = sound.Sound(Path + 'winning.wav')\n",
        "losing_sound = sound.Sound(Path + 'loosing.wav')"
      ],
      "id": "1c9a573a",
      "execution_count": null,
      "outputs": []
    },
    {
      "cell_type": "markdown",
      "metadata": {},
      "source": [
        "Note that in this simple experiment we will present the reward always on the right and the non-rewards always on the left that's why when we import the two rewards we set their `pos` to `(250,0)` and `(-250,0)`. The first value indicates the number of pixels on the x-axis and the second the number of pixels on the y-axis.\n",
        "\n",
        "### Show a visual stimulus:\n",
        "\n",
        "No we want to show a stimuli in the center of our window. To do so we will have to use the function \"draw\". As the name suggests this function draws the stimulus that we want on the window.\n",
        "\n",
        "Let's start with displaying the fixation cross in the center."
      ],
      "id": "2494759f"
    },
    {
      "cell_type": "code",
      "metadata": {},
      "source": [
        "# Draw the fixation\n",
        "fixation.draw()"
      ],
      "id": "78f9ff30",
      "execution_count": null,
      "outputs": []
    },
    {
      "cell_type": "markdown",
      "metadata": {},
      "source": [
        "Do you see the fixation cross?????? Probably not!! This is because we have drawn the fixation cross but we have not refreshed the window. Psychopy allows you to draw as many stimuli as you want on a window but the changes are only shown when you \"refresh\" the window. To do so we need to use the \"flip\" function."
      ],
      "id": "e297d683"
    },
    {
      "cell_type": "code",
      "metadata": {},
      "source": [
        "win.flip()"
      ],
      "id": "7ffdbf24",
      "execution_count": null,
      "outputs": []
    },
    {
      "cell_type": "markdown",
      "metadata": {},
      "source": [
        "Perfect!!!! The fixation cross is there. Before each flip we need to draw our objects. Otherwise we will only see the basic window with nothing in it. Let's try!!! flip the window now."
      ],
      "id": "3080256c"
    },
    {
      "cell_type": "code",
      "metadata": {},
      "source": [
        "# Flipping the window (refreshing)\n",
        "win.flip()"
      ],
      "id": "268a85bc",
      "execution_count": null,
      "outputs": []
    },
    {
      "cell_type": "markdown",
      "metadata": {},
      "source": [
        "The fixation is gone again! Exactly as predicted. Flipping the window allows us to draw and show something new each frame. This means that the speed limit of our presentation is the actual frame rate of our display. *If we have a 60Hz display we can present an image 60 times in a second.*\n",
        "\n",
        "So if we want to present our fixation for an entire second we would have to draw and flip it 60 times (our display has a refresh rate of 60Hz)! Let's try:"
      ],
      "id": "d3dd2103"
    },
    {
      "cell_type": "code",
      "metadata": {},
      "source": [
        "for _ in range(60):\n",
        "    fixation.draw()\n",
        "    win.flip()\n",
        "win.flip() # we re-flip at the end to clean the window"
      ],
      "id": "ce4b4b34",
      "execution_count": null,
      "outputs": []
    },
    {
      "cell_type": "markdown",
      "metadata": {},
      "source": [
        "Now we have shown the fixation for 1 second and then it disappeared. Nice!! However you probably have already figured out that what we have done was unnecessary. If we want to present a static stimulus for 1s we could have just drawn it, flip the window and then wait for 1s. But now you have an idea on how to show animated stimuli or even videos!!! **AMAZING!!!**.\n",
        "\n",
        "Now let's try to show the fixation for 1s by just waiting."
      ],
      "id": "ac27c662"
    },
    {
      "cell_type": "code",
      "metadata": {},
      "source": [
        "fixation.draw()\n",
        "win.flip()\n",
        "core.wait(1)  # wait for 1 second\n",
        "win.flip()    # we re-flip at the end to clean the window"
      ],
      "id": "a3fe8db8",
      "execution_count": null,
      "outputs": []
    },
    {
      "cell_type": "markdown",
      "metadata": {},
      "source": [
        "### Play a sound:\n",
        "\n",
        "We have seen how to show a stimulus let's now play the sounds that we have imported. This is extremely simple, we can just `play()` them:"
      ],
      "id": "86c7fcde"
    },
    {
      "cell_type": "code",
      "metadata": {},
      "source": [
        "winning_sound.play()\n",
        "core.wait(2)\n",
        "losing_sound.play()"
      ],
      "id": "226b8fb4",
      "execution_count": null,
      "outputs": []
    },
    {
      "cell_type": "markdown",
      "metadata": {},
      "source": [
        "Great now we have played our two sounds!!\n",
        "\n",
        "::: callout-warning\n",
        "When playing a sound the script will continue and will not wait for the sound to have finished playing. So if you play two sounds one after without waiting the two sounds will play overlapping. That's why we have used `core.wait(2)`, this tells PsychoPy to wait 2 seconds after starting to play the sound.\n",
        ":::\n",
        "\n",
        "### Create a trial:\n",
        "\n",
        "Now let's try to put everything we have learned in one place and present one rewarding and one non-rewarding trial: - we present the fixation for 1s - we present one of the two cues for 3s - we present the reward or the non-reward depending on the cue for 2s.\n",
        "\n",
        "In the end we also close the window."
      ],
      "id": "3f0317d1"
    },
    {
      "cell_type": "code",
      "metadata": {},
      "source": [
        "###### 1st Trial ######\n",
        "\n",
        "### Present the fixation\n",
        "win.flip() # we flip to clean the window\n",
        "\n",
        "fixation.draw()\n",
        "win.flip()\n",
        "core.wait(1)  # wait for 1 second\n",
        "\n",
        "### Present the winning cue\n",
        "circle.draw()\n",
        "win.flip()\n",
        "core.wait(3)  # wait for 3 seconds\n",
        "\n",
        "### Present the reward \n",
        "winning.draw()\n",
        "win.flip()\n",
        "winning_sound.play()\n",
        "core.wait(2)  # wait for 1 second\n",
        "win.flip()    # we re-flip at the end to clean the window\n",
        "\n",
        "###### 2nd Trial ######\n",
        "\n",
        "### Present the fixation\n",
        "win.flip() # we flip to clean the window\n",
        "\n",
        "fixation.draw()\n",
        "win.flip()\n",
        "core.wait(1)  # wait for 1 second\n",
        "\n",
        "### Present the non-rewarding cue\n",
        "square.draw()\n",
        "win.flip()\n",
        "core.wait(3)  # wait for 3 seconds\n",
        "\n",
        "### Present the reward \n",
        "losing.draw()\n",
        "win.flip()\n",
        "losing_sound.play()\n",
        "core.wait(2)  # wait for 1 second\n",
        "win.flip()    # we re-flip at the end to clean the window\n",
        "\n",
        "\n",
        "win.close()  # let's close the window at the end of the trial"
      ],
      "id": "f10de321",
      "execution_count": null,
      "outputs": []
    },
    {
      "cell_type": "markdown",
      "metadata": {},
      "source": [
        "### Create an entire experiment:\n",
        "\n",
        "In an experiment, we want more than 1 trial. Let's then create an experiment with 10 trials. We just need to repeat what we have done above multiple times. However, we need to randomize the type of trials, otherwise, it would be too easy to learn. To do so, we will create a list of `0` and `1`. where `0` would identify a rewarding trial and `1` would index a non-rewarding trial.\n",
        "\n",
        "To properly utilize this list of `0` and `1`, we will need to create other lists of our stimuli. This will make it easier to call the right stimuli depending on the trial. We can do so by:"
      ],
      "id": "1bba6a4d"
    },
    {
      "cell_type": "code",
      "metadata": {},
      "source": [
        "# Create list of trials in which 0 means winning and 1 means losing\n",
        "Trials = [0, 1, 0, 0, 1, 0, 1, 1, 0, 1 ]\n",
        "\n",
        "# List of stimuli\n",
        "cues = [circle, square] # put both cues in a list\n",
        "rewards = [winning, loosing] # put both rewards in a list\n",
        "sounds = [winning_sound,losing_sound] # put both sounds in a list"
      ],
      "id": "b666c983",
      "execution_count": null,
      "outputs": []
    },
    {
      "cell_type": "markdown",
      "metadata": {},
      "source": [
        "Perfect!! Now we can put all the pieces together and run our experiment.\n",
        "\n",
        "::: callout-note\n",
        "In this final script, we will change the dimension of the window we will use. Since in most of the experiments, we will want to use the entire screen to our disposal, we will set `fullscr = True` when defining the window. In addition, we will also change the position of the rewarding and non-rewarding stimulus since now the window is bigger.\n",
        ":::"
      ],
      "id": "8f910d05"
    },
    {
      "cell_type": "code",
      "metadata": {},
      "source": [
        "# Import some libraries from PsychoPy\n",
        "from psychopy import visual\n",
        "from psychopy import core\n",
        "from psychopy import sound\n",
        "\n",
        "# Let's define the path we will work with.\n",
        "# in my case the stimuli that we will use are in here but you will have to adapt\n",
        "# this variable to where you have downloaded the stimuli.\n",
        "Path = r'C:\\\\Users\\\\tomma\\\\surfdrive - Ghilardi, T. (Tommaso)@surfdrive.surf.nl\\\\Documentation\\\\Working\\\\GettingStartedWithPsychopy\\\\'\n",
        "\n",
        "# create a window\n",
        "win = visual.Window(fullscr = True, units=\"pix\")\n",
        "\n",
        "# Load images\n",
        "fixation = visual.ImageStim(win, image=Path + 'fixation.png', size = (100, 100))\n",
        "circle   = visual.ImageStim(win, image=Path + 'circle.png', size = (100, 100))\n",
        "square   = visual.ImageStim(win, image=Path + 'square.png', size = (100, 100))\n",
        "winning   = visual.ImageStim(win, image=Path + 'winning.png', size = (100, 100), pos=(600,0))\n",
        "loosing  = visual.ImageStim(win, image=Path + 'loosing.png', size = (100, 100), pos=(-600,0))\n",
        "\n",
        "# Load sound\n",
        "winning_sound = sound.Sound(Path + 'winning.wav')\n",
        "losing_sound = sound.Sound(Path + 'loosing.wav')\n",
        "\n",
        "# List of stimuli\n",
        "cues = [circle, square] # put both cues in a list\n",
        "rewards = [winning, loosing] # put both rewards in a list\n",
        "sounds = [winning_sound,losing_sound] # put both sounds in a list\n",
        "\n",
        "\n",
        "# Create list of trials in which 0 means winning and 1 means losing\n",
        "Trials = [0, 1, 0, 0, 1, 0, 1, 1, 0, 1 ]\n",
        "\n",
        "\n",
        "for trial in Trials:\n",
        "\n",
        "    ### Present the fixation\n",
        "    win.flip() # we flip to clean the window\n",
        "\n",
        "    fixation.draw()\n",
        "    win.flip()\n",
        "    core.wait(1)  # wait for 1 second\n",
        "\n",
        "\n",
        "    ### Present the cue\n",
        "    cues[trial].draw()\n",
        "    win.flip()\n",
        "    core.wait(3)  # wait for 3 seconds\n",
        "\n",
        "\n",
        "    ### Present the reward\n",
        "    rewards[trial].draw()\n",
        "    win.flip()\n",
        "    sounds[trial].play()\n",
        "    core.wait(2)  # wait for 1 second\n",
        "    win.flip()    # we re-flip at the end to clean the window\n",
        "\n",
        "    ### ISI\n",
        "    core.wait(0.3) # add Inter Stimulus Interval to make exp more understandable\n",
        "\n",
        "win.close()"
      ],
      "id": "aaa15bf4",
      "execution_count": null,
      "outputs": []
    },
    {
      "cell_type": "markdown",
      "metadata": {},
      "source": [
        "### END\n",
        "\n",
        "We have our basic experiment and if you have followed up to here you should be able to get along with the basic concepts of PsychoPy!! **Well done!!!**."
      ],
      "id": "593f24a2"
    }
  ],
  "metadata": {
    "kernelspec": {
      "name": "base",
      "language": "python",
      "display_name": "base"
    }
  },
  "nbformat": 4,
  "nbformat_minor": 5
}