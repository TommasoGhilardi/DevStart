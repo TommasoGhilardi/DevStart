{
  "cells": [
    {
      "cell_type": "markdown",
      "metadata": {},
      "source": [
        "---\n",
        "title: \"Create your first paradigm\"\n",
        "date: \"02/16/2024\"\n",
        "execute:\n",
        "  eval: false\n",
        "jupyter:\n",
        "  kernel: \"python3\"\n",
        "author-meta: Tommaso Ghilardi\n",
        "description-meta: \"Learn how to get started with PsychoPy, an open-source software package for neuroscience and experimental psychology research. Follow our step-by-step guide to create an experimental paradigm from scratch\"\n",
        "keywords: \"PsychoPy, Python, experimental psychology, neuroscience, tutorial, experiment, DevStart, developmental science\"\n",
        "categories: Python\n",
        "---\n",
        "\n",
        "\n",
        "# Let's create our first experimental paradigm using PsychoPy\n",
        "\n",
        "We will create a very simple and basic experiment that will be the stepping stone for some of the future tutorials. In the future tutorials we will show you how to extend and make this tutorial in a real experiment.\n",
        "\n",
        "::: callout-important\n",
        "## Stimuli!\n",
        "\n",
        "You can download from [here](/resources/getting_started_psychopy/EXP.zip) the stimuli that we will use in this example. They are very simple and basic stimuli:\n",
        "\n",
        "-   a fixation cross\n",
        "-   two cues (a circle and a square)\n",
        "-   a reward (a cute medal)\n",
        "-   a non-reward (a cartoon of an exploding empty cloud)\n",
        "-   a sound of winning at an arcade game\n",
        "-   a sound of losing at an arcade game\n",
        ":::\n",
        "\n",
        "In this tutorial, we will create an experiment in which, after the fixation cross, one of the two cues is presented. The cues will indicate whether we will receive a reward or not and where this will appear. After the circle is presented as a cue, the medal will be presented on the right. After the square is presented as a cue, the empty cloud will be presented on the left. Thus, if you follow the cued indication you will be able to predict the location of the next stimuli and whether or not it will be rewarding. Here below you can find a graphic representation of the design:\\\n",
        "![](/images/GettingStartedWithPsychopy/Design.jpg)\n",
        "\n",
        "## Preparation:\n",
        "\n",
        "First things first, let's import the relevant libraries and define the path to where our stimuli are. PsychoPy has a lot of different modules that allow us to interface with different types of stimuli and systems. For this tutorial we need the following:\n"
      ],
      "id": "6c21c814"
    },
    {
      "cell_type": "code",
      "metadata": {},
      "source": [
        "# Import some libraries from PsychoPy and others\n",
        "import os\n",
        "\n",
        "from psychopy import core, event, visual, prefs\n",
        "prefs.hardware['audioLib'] = ['PTB']\n",
        "from psychopy import sound"
      ],
      "id": "eeb55075",
      "execution_count": null,
      "outputs": []
    },
    {
      "cell_type": "markdown",
      "metadata": {},
      "source": [
        "## Stimuli:\n",
        "\n",
        "The next step is to create the window. The window is what we will show the stimuli in; it is the canvas on which to draw objects. For now, we will create a small window of 960\\*540 pixels. In this way, we will able to see the stimuli and still interact with the rest of our PC interface. In a real experiment, we would probably set the window dimension to the entirety of the display (fullscr=True) and maybe on a secondary screen (screen = 1).\n"
      ],
      "id": "343ec67e"
    },
    {
      "cell_type": "code",
      "metadata": {},
      "source": [
        "# Winsize\n",
        "winsize = (960, 540)\n",
        "\n",
        "# create a window\n",
        "win = visual.Window(size = winsize, fullscr=False, units=\"pix\", pos =(0,30), screen=0)"
      ],
      "id": "54446bad",
      "execution_count": null,
      "outputs": []
    },
    {
      "cell_type": "markdown",
      "metadata": {},
      "source": [
        "Now let's import the stimuli that we will present in this tutorial. We have 5 stimuli:\n",
        "\n",
        "-   a fixation cross that we will use to catch the attention of our participants\n",
        "-   a circle that will be our cue that signals a rewarding trial\n",
        "-   a square that will be our cue that signals a non-rewarding trial\n",
        "-   a cartoon of a medal that will be our reward\n",
        "-   a cartoon of an empty cloud that will be our non-reward\n",
        "\n",
        "On top of these visual stimuli, we will also import two sounds that will help us signal the type of trials. So:\n",
        "\n",
        "-   a *tada!* winning sound\n",
        "-   a *papapaaa!* losing sound\n",
        "\n",
        "::: callout-tip\n",
        "When importing a visual stimulus we need to pass to the importing function in which window it will be displayed. In our case, we will pass all of them the \"win\" window that we just created.\n",
        ":::\n",
        "\n",
        "::: callout-warning\n",
        "## PATHS\n",
        "\n",
        "When working with file paths in Python, it's important to remember that Windows and macOS/Linux use different conventions for their file paths:\n",
        "\n",
        "1.  **Windows Paths:**\n",
        "\n",
        "    -   Windows file paths typically use backslashes (`\\`). However, in Python, a backslash is used as an escape character. To handle this, you have two options:\n",
        "\n",
        "        -   Use double backslashes to avoid Python interpreting the backslash as an escape character:\n",
        "\n",
        "            ``` python\n",
        "            'C:\\\\Users\\\\tomma\\\\Desktop'\n",
        "            ```\n",
        "\n",
        "        -   Alternatively, use a raw string by prefixing the path with `r`, which tells Python to treat backslashes as literal characters:\n",
        "\n",
        "            ``` python\n",
        "            r'C:\\Users\\tomma\\Desktop'\n",
        "            ```\n",
        "\n",
        "2.  **macOS/Linux Paths:**\n",
        "\n",
        "    -   macOS and Linux use forward slashes (`/`) for their file paths, which are also compatible with Python's string handling. You can use the path directly. There's no need for double slashes or raw strings in macOS/Linux paths.\n",
        "\n",
        "        ``` python\n",
        "        '/Users/tomma/Desktop'\n",
        "        ```\n",
        "\n",
        "Always use the appropriate path format for your operating system to ensure your Python scripts work smoothly across different platforms. **We'll follow this rule in all our scripts, so keep it in mind – it's a key detail for error-free scripting!**\n",
        ":::\n"
      ],
      "id": "7f46747c"
    },
    {
      "cell_type": "code",
      "metadata": {},
      "source": [
        "#%% Load and prepare stimuli\n",
        "\n",
        "# Setting the directory of our experiment\n",
        "os.chdir(r'C:\\Users\\tomma\\OneDrive - Birkbeck, University of London\\TomassoGhilardi\\PersonalProj\\BCCCD')\n",
        "\n",
        "\n",
        "# Load images\n",
        "fixation = visual.ImageStim(win, image='EXP\\\\Stimuli\\\\fixation.png', size = (200, 200))\n",
        "circle   = visual.ImageStim(win, image='EXP\\\\Stimuli\\\\circle.png', size = (200, 200))\n",
        "square   = visual.ImageStim(win, image='EXP\\\\Stimuli\\\\square.png', size = (200, 200))\n",
        "winning   = visual.ImageStim(win, image='EXP\\\\Stimuli\\\\winning.png', size = (200, 200), pos=(250,0))\n",
        "losing  = visual.ImageStim(win, image='EXP\\\\Stimuli\\\\loosing.png', size = (200, 200), pos=(-250,0))\n",
        "\n",
        "# Load sound\n",
        "winning_sound = sound.Sound('EXP\\\\Stimuli\\\\winning.wav')\n",
        "losing_sound = sound.Sound('EXP\\\\Stimuli\\\\loosing.wav')\n",
        "\n",
        "# List of stimuli\n",
        "cues = [circle, square] # put both cues in a list\n",
        "rewards = [winning, losing] # put both rewards in a list\n",
        "sounds = [winning_sound,losing_sound] # put both sounds in a list\n",
        "\n",
        "# Create a list of trials in which 0 means winning and 1 means losing\n",
        "Trials = [0, 1, 0, 0, 1, 0, 1, 1, 0, 1 ]"
      ],
      "id": "c38cf3da",
      "execution_count": null,
      "outputs": []
    },
    {
      "cell_type": "markdown",
      "metadata": {},
      "source": [
        "Note that in this simple experiment, we will present the reward always on the right and the non-rewards always on the left that's why when we import the two rewards we set their `pos` to `(250,0)` and `(-250,0)`. The first value indicates the number of pixels on the x-axis and the second is the number of pixels on the y-axis.\n",
        "\n",
        "## Show a visual stimulus:\n",
        "\n",
        "Now we want to show a stimulus in the center of our window. To do so, we will have to use the function \"draw\". As the name suggests this function draws the stimulus that we want on the window that we have created.\n",
        "\n",
        "Let's start with displaying the fixation cross in the center.\n"
      ],
      "id": "38f7621d"
    },
    {
      "cell_type": "code",
      "metadata": {},
      "source": [
        "# Draw the fixation\n",
        "fixation.draw()"
      ],
      "id": "3a226657",
      "execution_count": null,
      "outputs": []
    },
    {
      "cell_type": "markdown",
      "metadata": {},
      "source": [
        "Do you see the fixation cross?????? Probably not!! This is because we have drawn the fixation cross but we have not refreshed the window. Psychopy allows you to draw as many stimuli as you want on a window but the changes are only shown when you \"refresh\" the window. To do so we need to use the \"flip\" function.\n"
      ],
      "id": "6f975dbd"
    },
    {
      "cell_type": "code",
      "metadata": {},
      "source": [
        "win.flip()"
      ],
      "id": "d6fade73",
      "execution_count": null,
      "outputs": []
    },
    {
      "cell_type": "markdown",
      "metadata": {},
      "source": [
        "Perfect!!!! The fixation cross is there. Before each flip, we need to draw our objects. Otherwise, we will only see the basic window with nothing in it. Let's try!!! flip the window now.\n"
      ],
      "id": "0a6f08ad"
    },
    {
      "cell_type": "code",
      "metadata": {},
      "source": [
        "# Flipping the window (refreshing)\n",
        "win.flip()"
      ],
      "id": "50caf958",
      "execution_count": null,
      "outputs": []
    },
    {
      "cell_type": "markdown",
      "metadata": {},
      "source": [
        "The fixation is gone again! Exactly as predicted. Flipping the window allows us to draw and show something new in each frame. This means that the speed limit of our presentation is the actual frame rate of our display. *If we have a 60Hz display we can present an image 60 times in a second.*\n",
        "\n",
        "So if we want to present our fixation for an entire second we would have to draw and flip it 60 times (our display has a refresh rate of 60Hz)! Let's try:\n"
      ],
      "id": "1144f512"
    },
    {
      "cell_type": "code",
      "metadata": {},
      "source": [
        "for _ in range(60):\n",
        "    fixation.draw()\n",
        "    win.flip()\n",
        "win.flip() # we re-flip at the end to clean the window"
      ],
      "id": "f4057c33",
      "execution_count": null,
      "outputs": []
    },
    {
      "cell_type": "markdown",
      "metadata": {},
      "source": [
        "Now we have shown the fixation for 1 second and then it disappeared. Nice!! However, you probably have already figured out that what we have done was unnecessary. If we want to present a static stimulus for 1s we could have just drawn it, flipped the window, and then waited for 1s. But now you have an idea of how to show animated stimuli or even videos!!! **AMAZING!!!**.\n",
        "\n",
        "Now let's try to show the fixation for 1s by just waiting.\n"
      ],
      "id": "62963320"
    },
    {
      "cell_type": "code",
      "metadata": {},
      "source": [
        "fixation.draw()\n",
        "win.flip()\n",
        "core.wait(1)  # wait for 1 second\n",
        "win.flip()    # we re-flip at the end to clean the window"
      ],
      "id": "4c3505ab",
      "execution_count": null,
      "outputs": []
    },
    {
      "cell_type": "markdown",
      "metadata": {},
      "source": [
        "## Play a sound:\n",
        "\n",
        "We have seen how to show a stimulus let's now play the sounds that we have imported. This is extremely simple, we can just `play()` them:\n"
      ],
      "id": "2d7ac5d0"
    },
    {
      "cell_type": "code",
      "metadata": {},
      "source": [
        "winning_sound.play()\n",
        "core.wait(2)\n",
        "losing_sound.play()"
      ],
      "id": "eb915bb4",
      "execution_count": null,
      "outputs": []
    },
    {
      "cell_type": "markdown",
      "metadata": {},
      "source": [
        "Great now we have played our two sounds!!\n",
        "\n",
        "::: callout-warning\n",
        "When playing a sound the script will continue and will not wait for the sound to have finished playing. So if you play two sounds one after without waiting the two sounds will play overlapping. That's why we have used `core.wait(2)`, this tells PsychoPy to wait 2 seconds after starting to play the sound.\n",
        ":::\n",
        "\n",
        "## Create a trial:\n",
        "\n",
        "Now let's try to put everything we have learned in one place and present one rewarding and one non-rewarding trial:\n",
        "\n",
        "-   we present the fixation for 1s\n",
        "\n",
        "-   we present one of the two cues for 3s\n",
        "\n",
        "-   we wait 750ms of blank screen\n",
        "\n",
        "-   we present the reward or the non-reward depending on the cue for 2s.\n",
        "\n",
        "In the end, we also close the window.\n"
      ],
      "id": "86cc907c"
    },
    {
      "cell_type": "code",
      "metadata": {},
      "source": [
        "###### 1st Trial ######\n",
        "\n",
        "### Present the fixation\n",
        "win.flip() # we flip to clean the window\n",
        "\n",
        "fixation.draw()\n",
        "win.flip()\n",
        "core.wait(1)  # wait for 1 second\n",
        "\n",
        "### Present the winning cue\n",
        "circle.draw()\n",
        "win.flip()\n",
        "core.wait(3)  # wait for 3 seconds\n",
        "\n",
        "### Present the reward \n",
        "winning.draw()\n",
        "win.flip()\n",
        "winning_sound.play()\n",
        "core.wait(2)  # wait for 1 second\n",
        "win.flip()    # we re-flip at the end to clean the window\n",
        "\n",
        "###### 2nd Trial ######\n",
        "\n",
        "### Present the fixation\n",
        "win.flip() # we flip to clean the window\n",
        "\n",
        "fixation.draw()\n",
        "win.flip()\n",
        "core.wait(1)  # wait for 1 second\n",
        "\n",
        "### Present the non-rewarding cue\n",
        "square.draw()\n",
        "win.flip()\n",
        "core.wait(3)  # wait for 3 seconds\n",
        "\n",
        "### Present the reward \n",
        "losing.draw()\n",
        "win.flip()\n",
        "losing_sound.play()\n",
        "core.wait(2)  # wait for 2 second\n",
        "win.flip()    # we re-flip at the end to clean the window\n",
        "\n",
        "\n",
        "win.close()  # let's close the window at the end of the trial"
      ],
      "id": "f7439838",
      "execution_count": null,
      "outputs": []
    },
    {
      "cell_type": "markdown",
      "metadata": {},
      "source": [
        "## ISI\n",
        "\n",
        "Amazing, we've got two trials! But, these trials are back-to-back, which isn't typically what we want. More often, we prefer a brief gap between trials, known as the Inter Stimulus Interval (ISI). We could introduce this interval by simply adding a `core.wait(1)`, which would pause the script for a second. However, I'd like to introduce you to an alternative method to wait for this second, which will be useful in future tutorials.\n",
        "\n",
        "To implement this ISI, we'll create a psychopy `core.Clock()`. Once initiated, this clock begins to keep track of time, allowing us to check how much time has elapsed since the clock started at any given moment. We'll then use a `while` loop to monitor the elapsed time and break this loop once a second has passed.\n",
        "\n",
        "The `while` loop is a loop that will keep doing the same thing over and over again as long as a certain condition is true, here the passing of 1s.\n"
      ],
      "id": "caae60fc"
    },
    {
      "cell_type": "code",
      "metadata": {},
      "source": [
        "### ISI\n",
        "clock = core.Clock() # start clock\n",
        "while clock.getTime() < 1:\n",
        "    pass"
      ],
      "id": "d0c997da",
      "execution_count": null,
      "outputs": []
    },
    {
      "cell_type": "markdown",
      "metadata": {},
      "source": [
        "Perfect we can now add this at the end of our trials!!\n",
        "\n",
        "## Stop the experiment\n",
        "\n",
        "Fantastic, we've nearly have our study! However, studies often don't run to completion, especially when we're working with infants and children. More often than not, we need to halt the study prematurely. This could be due to the participant becoming fatigued or distracted, or perhaps we need to tweak some settings.\n",
        "\n",
        "How can we accomplish this? Of course, we could just shut down Python and let the experiment crash... but surely, there's a more elegant solution... And indeed, there is! In fact, there are numerous methods to achieve this, and we're going to demonstrate one of the most straightforward and flexible ones to you.\n",
        "\n",
        "We can use the `event.getKeys()` function to ask Psychopy to report any key that has been pressed during our trial. In our case, we will check if the ESC key has been pressed and if it has, we will simply close the window and stop the study.\n"
      ],
      "id": "22b5b591"
    },
    {
      "cell_type": "code",
      "metadata": {},
      "source": [
        "### Check for closing experiment\n",
        "keys = event.getKeys() # collect list of pressed keys\n",
        "if 'escape' in keys:\n",
        "    win.close()  # close window\n",
        "    core.quit()  # stop study"
      ],
      "id": "8ecbcf6a",
      "execution_count": null,
      "outputs": []
    },
    {
      "cell_type": "markdown",
      "metadata": {},
      "source": [
        "::: callout-important\n",
        "You can add this check for closing the study at any point during the study. However, we recommend placing it at the end of each trial. This ensures that even if you stop the experiment, you will have a complete trial, making it easier to analyze data since you won't have any incomplete sections of the study.\n",
        "\n",
        "Also, you can use this same method to pause the study or interact with its progress in general.\n",
        ":::\n",
        "\n",
        "## Create an entire experiment\n",
        "\n",
        "In an experiment, we want more than 1 trial. Let's then create an experiment with 10 trials. We just need to repeat what we have done above multiple times. However, we need to randomize the type of trials, otherwise, it would be too easy to learn. To do so, we will create a list of `0` and `1`. where `0` would identify a rewarding trial and `1` would index a non-rewarding trial.\n",
        "\n",
        "To properly utilize this list of `0` and `1`, we will need to create other lists of our stimuli. This will make it easier to call the right stimuli depending on the trial. We can do so by:\n"
      ],
      "id": "829f5df2"
    },
    {
      "cell_type": "code",
      "metadata": {},
      "source": [
        "# Create list of trials in which 0 means winning and 1 means losing\n",
        "Trials = [0, 1, 0, 0, 1, 0, 1, 1, 0, 1 ]\n",
        "\n",
        "# List of stimuli\n",
        "cues = [circle, square] # put both cues in a list\n",
        "rewards = [winning, losing] # put both rewards in a list\n",
        "sounds = [winning_sound,losing_sound] # put both sounds in a list"
      ],
      "id": "c8f69626",
      "execution_count": null,
      "outputs": []
    },
    {
      "cell_type": "markdown",
      "metadata": {},
      "source": [
        "Perfect!! Now we can put all the pieces together and run our experiment.\n",
        "\n",
        "::: callout-caution\n",
        "In this final script, we will change the dimension of the window we will use. Since in most of the experiments, we will want to use the entire screen to our disposal, we will set `fullscr = True` when defining the window. In addition, we will also change the position of the rewarding and non-rewarding stimulus since now the window is bigger.\n",
        "\n",
        "If you are testing this script on your laptop and do not want to lose the ability to interact with it until the experiment is finished, keep the same window size and position as the previous lines of code.\n",
        ":::\n"
      ],
      "id": "623ba550"
    },
    {
      "cell_type": "code",
      "metadata": {},
      "source": [
        "# Import some libraries from PsychoPy and others\n",
        "import os\n",
        "\n",
        "from psychopy import core, event, visual, prefs\n",
        "prefs.hardware['audioLib'] = ['PTB']\n",
        "from psychopy import sound\n",
        "\n",
        "#%% Load and prepare stimuli\n",
        "\n",
        "# Setting directory of our experiment\n",
        "os.chdir(r'C:\\Users\\tomma\\OneDrive - Birkbeck, University of London\\TomassoGhilardi\\PersonalProj\\BCCCD')\n",
        "\n",
        "# Winsize\n",
        "winsize = (1920, 1080)\n",
        "\n",
        "# create a window\n",
        "win = visual.Window(size = winsize, fullscr=False, units=\"pix\", pos =(0,30), screen=1)\n",
        "\n",
        "# Load images\n",
        "fixation = visual.ImageStim(win, image='EXP\\\\Stimuli\\\\fixation.png', size = (200, 200))\n",
        "circle   = visual.ImageStim(win, image='EXP\\\\Stimuli\\\\circle.png', size = (200, 200))\n",
        "square   = visual.ImageStim(win, image='EXP\\\\Stimuli\\\\square.png', size = (200, 200))\n",
        "winning  = visual.ImageStim(win, image='EXP\\\\Stimuli\\\\winning.png', size = (200, 200), pos=(560,0))\n",
        "losing  = visual.ImageStim(win, image='EXP\\\\Stimuli\\\\loosing.png', size = (200, 200), pos=(-560,0))\n",
        "\n",
        "# Load sound\n",
        "winning_sound = sound.Sound('EXP\\\\Stimuli\\\\winning.wav')\n",
        "losing_sound = sound.Sound('EXP\\\\Stimuli\\\\loosing.wav')\n",
        "\n",
        "# List of stimuli\n",
        "cues = [circle, square] # put both cues in a list\n",
        "rewards = [winning, losing] # put both rewards in a list\n",
        "sounds = [winning_sound,losing_sound] # put both sounds in a list\n",
        "\n",
        "# Create list of trials in which 0 means winning and 1 means losing\n",
        "Trials = [0, 1, 0, 0, 1, 0, 1, 1, 0, 1 ]\n",
        "\n",
        "\n",
        "\n",
        "#%% Trials\n",
        "\n",
        "for trial in Trials:\n",
        "\n",
        "    ### Present the fixation\n",
        "    win.flip() # we flip to clean the window\n",
        "\n",
        "    fixation.draw()\n",
        "    win.flip()\n",
        "    core.wait(1)  # wait for 1 second\n",
        "\n",
        "\n",
        "    ### Present the cue\n",
        "    cues[trial].draw()\n",
        "    win.flip()\n",
        "    core.wait(3)  # wait for 3 seconds\n",
        "\n",
        "\n",
        "    ### Present the reward\n",
        "    rewards[trial].draw()\n",
        "    win.flip()\n",
        "    sounds[trial].play()\n",
        "    core.wait(2)  # wait for 1 second\n",
        "    win.flip()    # we re-flip at the end to clean the window\n",
        "\n",
        "    ### ISI\n",
        "    clock = core.Clock() # start clock\n",
        "    while clock.getTime() < 1:\n",
        "        pass\n",
        "      \n",
        "    ### Check for closing experiment\n",
        "    keys = event.getKeys() # collect list of pressed keys\n",
        "    if 'escape' in keys:\n",
        "        win.close()  # close window\n",
        "        core.quit()  # stop study\n",
        "        \n",
        "win.close()\n",
        "core.quit()"
      ],
      "id": "7811bb6f",
      "execution_count": null,
      "outputs": []
    },
    {
      "cell_type": "markdown",
      "metadata": {},
      "source": [
        "# END\n",
        "\n",
        "We have our basic experiment and if you have followed up to here you should be able to get along with the basic concepts of PsychoPy!! **Well done!!!**."
      ],
      "id": "d859bdbf"
    }
  ],
  "metadata": {
    "kernelspec": {
      "display_name": "Python 3",
      "language": "python",
      "name": "python3"
    }
  },
  "nbformat": 4,
  "nbformat_minor": 5
}