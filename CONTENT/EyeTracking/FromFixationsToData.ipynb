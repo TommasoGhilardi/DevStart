{
  "cells": [
    {
      "cell_type": "raw",
      "metadata": {},
      "source": [
        "---\n",
        "title: \"From fixations to data\"\n",
        "execute:\n",
        "  eval: true\n",
        "\n",
        "pagetitle: From fixations to data\n",
        "author-meta: Tommaso Ghilardi\n",
        "description-meta: Learn how to extract different eye-tracking measures from the collected data\n",
        "keywords: Python, saccadic-latency, looking time, eye-tracking, tobii, experimental psychology, tutorial, experiment, DevStart, developmental science\n",
        "---"
      ],
      "id": "bc00067e"
    },
    {
      "cell_type": "markdown",
      "metadata": {},
      "source": [
        "In the previous two tutorial we [collected some eye-trackign data](CreateAnEyetrackingExperiment.qmd) and then we have [used I2MC to extract the fixations](I2MC_tutorial.qmd) from that data. That is a good first step but what can we do with fixations? Not much I am afraid. But we can use these fixation to extract some more meaningful indexes.\n",
        "\n",
        "In this tutorial we will look at how to extract two features from our paradigm.\n",
        "\n",
        "-   **Saccadic latency:** how quickly our participant looked at the correct location. This includes checking whether the participant was able to anticipate the appearance of the stimulus. In our paradigm we will look at how fast our participant looked at the target location (left: NoReward, right: Reward).\n",
        "\n",
        "-   **Looking time:** how long our participant looked at certain locations on the screen. In our case we will look at how long our participant looked at the two target locations (left: NoReward, right: Reward).\n",
        "\n",
        "So what do these two measures have in common? EXACTLY!!! They are both clearly related to the position of our stimuli. It is indeed important to define our Areas Of Interest (AOI), where we will check whether our participant was looking into.\n",
        "\n",
        "# AOIs\n",
        "\n",
        "As AOIs are important, let's define them. We will define two squares around the target positions. To do this we can simply pass two coordinates for each AOI: the lower left corner and the upper right corner.\n",
        "\n",
        "An important point to understand is that tobii and psychopy use two different coordinate systems:\n",
        "\n",
        "-   Psychopy has it's origin (0,0) in the centre of the window/screen by default.\n",
        "\n",
        "-   Tobii reports data with it's origin (0,0) in the lower left corner.\n",
        "\n",
        "This inconsistency is not a problem per se, but we obviously need to take it into account when defining the AOIs. Let's try to define the AOIs:\n"
      ],
      "id": "f07d97a4"
    },
    {
      "cell_type": "code",
      "metadata": {},
      "source": [
        "# Define the variable realted to the screen and to the target position\n",
        "screensize = (1920, 1080)\n",
        "dimension_of_AOI = 600/2\n",
        "Target_position = 500\n",
        "\n",
        "# Create areas of interest\n",
        "AOI1 =[[screensize[0]/2 - Target_position - dimension_of_AOI, screensize[1]/2-dimension_of_AOI], [screensize[0]/2 - Target_position + dimension_of_AOI, screensize[1]/2 + dimension_of_AOI]]\n",
        "\n",
        "AOI2 =[[screensize[0]/2 + Target_position - dimension_of_AOI, screensize[1]/2-dimension_of_AOI], [screensize[0]/2 + Target_position + dimension_of_AOI, screensize[1]/2 + dimension_of_AOI]]\n",
        "\n",
        "AOIs = [AOI1, AOI2]"
      ],
      "id": "917075ed",
      "execution_count": null,
      "outputs": []
    },
    {
      "cell_type": "markdown",
      "metadata": {},
      "source": [
        "Nice!! This step is essential. We have created two AOIs. We will use them to define whether the gaze of our participant was on these two AOIs. Let's get a better idea by just plotting these two AOIs and two random points ()\n"
      ],
      "id": "fe007300"
    },
    {
      "cell_type": "code",
      "metadata": {},
      "source": [
        "import matplotlib.pyplot as plt\n",
        "import matplotlib.patches as patches\n",
        "\n",
        "# Create a figure\n",
        "fig, ax = plt.subplots(1)\n",
        "\n",
        "# Set the limits of the plot\n",
        "ax.set_xlim(0, 1920)\n",
        "ax.set_ylim(0, 1080)\n",
        "\n",
        "# Define the colors for the rectangles\n",
        "colors = ['#3CB0C3', '#C34F3C']\n",
        "\n",
        "# Create a rectangle for each area of interest and add it to the plot\n",
        "for i, (bottom_left, top_right) in enumerate(AOIs):\n",
        "    width = top_right[0] - bottom_left[0]\n",
        "    height = top_right[1] - bottom_left[1]\n",
        "    rectangle = patches.Rectangle(bottom_left, width, height, linewidth=2, edgecolor='k', facecolor=colors[i])\n",
        "    ax.add_patch(rectangle)\n",
        "\n",
        "ax.plot(600,500,marker='o', markersize=5, color='red')    \n",
        "\n",
        "# Show the plot\n",
        "plt.show()"
      ],
      "id": "11e242fc",
      "execution_count": null,
      "outputs": []
    }
  ],
  "metadata": {
    "kernelspec": {
      "name": "python3",
      "language": "python",
      "display_name": "Python 3 (ipykernel)"
    }
  },
  "nbformat": 4,
  "nbformat_minor": 5
}