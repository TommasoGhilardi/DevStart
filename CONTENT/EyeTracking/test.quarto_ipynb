{
  "cells": [
    {
      "cell_type": "markdown",
      "metadata": {},
      "source": [
        "---\n",
        "title: \"eye test\"\n",
        "---"
      ],
      "id": "c741cc08"
    },
    {
      "cell_type": "code",
      "metadata": {},
      "source": [
        "import aaaaaaaaaaaaaaaaaaaaaaaaaaaaaaaaaaa"
      ],
      "id": "ac633e73",
      "execution_count": null,
      "outputs": []
    }
  ],
  "metadata": {
    "kernelspec": {
      "name": "base",
      "language": "python",
      "display_name": "base",
      "path": "C:\\Users\\tomma\\AppData\\Roaming\\jupyter\\kernels\\base"
    }
  },
  "nbformat": 4,
  "nbformat_minor": 5
}